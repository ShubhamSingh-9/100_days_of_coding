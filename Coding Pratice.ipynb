{
 "cells": [
  {
   "cell_type": "markdown",
   "id": "6e4a83d9",
   "metadata": {},
   "source": [
    "#Question:\n",
    "Write a program which will find all such numbers which are divisible by 7 but are not a multiple of 5,\n",
    "between 2000 and 3200 (both included).\n",
    "The numbers obtained should be printed in a comma-separated sequence on a single line."
   ]
  },
  {
   "cell_type": "code",
   "execution_count": null,
   "id": "f49a50d7",
   "metadata": {},
   "outputs": [],
   "source": [
    "l=[]\n",
    "for i in range (2000,3201):\n",
    "    if (i%7==0) and (i%5!=0):\n",
    "        l.append(str(i))"
   ]
  },
  {
   "cell_type": "code",
   "execution_count": null,
   "id": "ea2efe40",
   "metadata": {},
   "outputs": [],
   "source": [
    "print(','.join(l))"
   ]
  },
  {
   "cell_type": "markdown",
   "id": "7bb45c84",
   "metadata": {},
   "source": [
    "Question:\n",
    "Write a program which can compute the factorial of a given numbers.\n",
    "The results should be printed in a comma-separated sequence on a single line.\n",
    "Suppose the following input is supplied to the program:8\n",
    "Then, the output should be:40320"
   ]
  },
  {
   "cell_type": "code",
   "execution_count": null,
   "id": "5750d343",
   "metadata": {},
   "outputs": [],
   "source": [
    "n=int(input('Enter Number:'))\n",
    "factorial=1\n",
    "\n",
    "for i in range (1,n+1):\n",
    "    factorial=factorial*i\n",
    "\n",
    "print(factorial)    "
   ]
  },
  {
   "cell_type": "markdown",
   "id": "8cc28372",
   "metadata": {},
   "source": [
    "Question 3\n",
    "Level 1\n",
    "\n",
    "Question:\n",
    "With a given integral number n, write a program to generate a dictionary that contains (i, i*i) such that is an integral number between 1 and n (both included). and then the program should print the dictionary.\n",
    "Suppose the following input is supplied to the program:\n",
    "8\n",
    "Then, the output should be:\n",
    "{1: 1, 2: 4, 3: 9, 4: 16, 5: 25, 6: 36, 7: 49, 8: 64}"
   ]
  },
  {
   "cell_type": "code",
   "execution_count": null,
   "id": "eb797717",
   "metadata": {},
   "outputs": [],
   "source": [
    "#Enter the number\n",
    "n=int(input('Enter Number:'))\n",
    "\n",
    "#Creating the dictionary\n",
    "d=dict()\n",
    "\n",
    "#Creating the for loop\n",
    "for i in range(1,n+1):\n",
    "    d[i]=i*i\n",
    "\n",
    "#Print the dictionary\n",
    "print(d)"
   ]
  },
  {
   "cell_type": "markdown",
   "id": "382bada9",
   "metadata": {},
   "source": [
    "Question:\n",
    "Write a program which accepts a sequence of comma-separated numbers from console and generate a list and a tuple which contains every number.\n",
    "Suppose the following input is supplied to the program:\n",
    "34,67,55,33,12,98\n",
    "Then, the output should be:\n",
    "['34', '67', '55', '33', '12', '98']\n",
    "('34', '67', '55', '33', '12', '98')"
   ]
  },
  {
   "cell_type": "code",
   "execution_count": null,
   "id": "be9c6f09",
   "metadata": {},
   "outputs": [],
   "source": [
    "values=input()\n",
    "l=values.split(\",\")\n",
    "t=tuple(l)\n",
    "print (l)\n",
    "print (t)"
   ]
  },
  {
   "cell_type": "markdown",
   "id": "bef2cea4",
   "metadata": {},
   "source": [
    "Define a class which has at least two methods:\n",
    "getString: to get a string from console input\n",
    "printString: to print the string in upper case.\n",
    "Also please include simple test function to test the class methods."
   ]
  },
  {
   "cell_type": "code",
   "execution_count": null,
   "id": "f54a7fa1",
   "metadata": {},
   "outputs": [],
   "source": [
    "class method:\n",
    "    def __int__(self,)\n",
    "    \n",
    "    \n",
    "    def getString(self)\n",
    "    "
   ]
  },
  {
   "cell_type": "code",
   "execution_count": null,
   "id": "3fc24c80",
   "metadata": {},
   "outputs": [],
   "source": []
  },
  {
   "cell_type": "code",
   "execution_count": null,
   "id": "b947edc3",
   "metadata": {},
   "outputs": [],
   "source": []
  },
  {
   "cell_type": "code",
   "execution_count": null,
   "id": "1a9855f4",
   "metadata": {},
   "outputs": [],
   "source": []
  },
  {
   "cell_type": "code",
   "execution_count": null,
   "id": "9a200c26",
   "metadata": {},
   "outputs": [],
   "source": []
  },
  {
   "cell_type": "code",
   "execution_count": null,
   "id": "0f6690f4",
   "metadata": {},
   "outputs": [],
   "source": []
  }
 ],
 "metadata": {
  "kernelspec": {
   "display_name": "Python 3 (ipykernel)",
   "language": "python",
   "name": "python3"
  },
  "language_info": {
   "codemirror_mode": {
    "name": "ipython",
    "version": 3
   },
   "file_extension": ".py",
   "mimetype": "text/x-python",
   "name": "python",
   "nbconvert_exporter": "python",
   "pygments_lexer": "ipython3",
   "version": "3.10.7"
  }
 },
 "nbformat": 4,
 "nbformat_minor": 5
}
